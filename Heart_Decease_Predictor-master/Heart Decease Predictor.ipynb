{
 "cells": [
  {
   "cell_type": "code",
   "execution_count": 10,
   "metadata": {},
   "outputs": [],
   "source": [
    "# Import required libraries\n",
    "import numpy as np\n",
    "import csv\n",
    "import cv2\n",
    "import sklearn\n",
    "import time\n",
    "\n",
    "from sklearn import preprocessing, metrics, cross_validation\n",
    "from sklearn.model_selection import train_test_split\n",
    "from sklearn.preprocessing import StandardScaler\n",
    "from sklearn.svm import LinearSVC, SVC\n",
    "\n",
    "# NOTE: the next import is only valid for scikit-learn version <= 0.17\n",
    "# for scikit-learn >= 0.18 use:\n",
    "# from sklearn.model_selection import train_test_split\n",
    "from sklearn.cross_validation import train_test_split"
   ]
  },
  {
   "cell_type": "code",
   "execution_count": 11,
   "metadata": {},
   "outputs": [],
   "source": [
    "# Constants\n",
    "data_path = \"data/\"\n",
    "\n",
    "csv_params = []\n",
    "csv_labels = []\n",
    "\n",
    "# Reading the content of csv file\n",
    "with open(data_path + 'heart-statlog.csv') as csv_file:\n",
    "    csv_reader = csv.reader(csv_file)\n",
    "    # Uncomment this line if file contains headers\n",
    "    # next(csv_reader, None)\n",
    "    for each_line in csv_reader:\n",
    "        csv_params.append(each_line[:-1])\n",
    "        csv_labels.append(each_line[-1])"
   ]
  },
  {
   "cell_type": "code",
   "execution_count": 13,
   "metadata": {},
   "outputs": [],
   "source": [
    "# Converting the data type from list to numpy array\n",
    "input_params = np.array(csv_params)\n",
    "input_labels = np.array(csv_labels)"
   ]
  },
  {
   "cell_type": "code",
   "execution_count": 15,
   "metadata": {},
   "outputs": [
    {
     "name": "stdout",
     "output_type": "stream",
     "text": [
      "Shape of input params:  (270, 13)\n",
      "Shape of input labels:  (270,)\n"
     ]
    }
   ],
   "source": [
    "print(\"Shape of input params: \", input_params.shape) #(rows, columns)\n",
    "print(\"Shape of input labels: \", input_labels.shape) #(rows, columns)"
   ]
  },
  {
   "cell_type": "markdown",
   "metadata": {},
   "source": [
    "##### Headers correspond to each column\n",
    "1. age       \n",
    "2. sex       \n",
    "3. chest pain type  (4 values)       \n",
    "4. resting blood pressure  \n",
    "5. serum cholestoral in mg/dl      \n",
    "6. fasting blood sugar > 120 mg/dl       \n",
    "7. resting electrocardiographic results  (values 0,1,2) \n",
    "8. maximum heart rate achieved  \n",
    "9. exercise induced angina    \n",
    "10. oldpeak = ST depression induced by exercise relative to rest   \n",
    "11. the slope of the peak exercise ST segment     \n",
    "12. number of major vessels (0-3) colored by flourosopy        \n",
    "13.  thal: 3 = normal; 6 = fixed defect; 7 = reversable defect\n",
    "14. input_label -> present/absent"
   ]
  },
  {
   "cell_type": "code",
   "execution_count": 21,
   "metadata": {},
   "outputs": [
    {
     "name": "stdout",
     "output_type": "stream",
     "text": [
      "Sample input parameters:  ['70' '1' '4' '130' '322' '0' '2' '109' '0' '2.4' '2' '3' '3']\n",
      "Corresponding input label:  present\n"
     ]
    }
   ],
   "source": [
    "print(\"Sample input parameters: \", input_params[0])\n",
    "print(\"Corresponding input label: \", input_labels[0])"
   ]
  },
  {
   "cell_type": "code",
   "execution_count": 22,
   "metadata": {},
   "outputs": [
    {
     "name": "stdout",
     "output_type": "stream",
     "text": [
      "Scaled Output:  [ 1.71209356  0.6894997   0.87092765 -0.07540984  1.40221232 -0.41702883\n",
      "  0.98166365 -1.75920811 -0.7012223   1.18101235  0.67641928  2.47268219\n",
      " -0.87570581]\n"
     ]
    },
    {
     "name": "stderr",
     "output_type": "stream",
     "text": [
      "C:\\Users\\AKhil\\Anaconda3\\envs\\carnd-term1\\lib\\site-packages\\sklearn\\utils\\validation.py:475: DataConversionWarning: Data with input dtype <U3 was converted to float64 by StandardScaler.\n",
      "  warnings.warn(msg, DataConversionWarning)\n"
     ]
    }
   ],
   "source": [
    "# Scaling the input params by using standard scaler\n",
    "X_scaler = StandardScaler().fit(input_params)\n",
    "X_scaled = X_scaler.transform(input_params)\n",
    "print(\"Scaled Output: \", X_scaled[0])"
   ]
  },
  {
   "cell_type": "code",
   "execution_count": 33,
   "metadata": {},
   "outputs": [],
   "source": [
    "# Splitting the data-set in train and test data\n",
    "rand_state = np.random.randint(0, 100)\n",
    "X_train, X_test, y_train, y_test = train_test_split(\n",
    "    X_scaled, input_labels, test_size=0.2, random_state=rand_state)"
   ]
  },
  {
   "cell_type": "code",
   "execution_count": 25,
   "metadata": {},
   "outputs": [
    {
     "name": "stdout",
     "output_type": "stream",
     "text": [
      "Length of training data:  216 216\n",
      "Length of test data:  54 54\n"
     ]
    }
   ],
   "source": [
    "print(\"Length of training data: \", len(X_train), len(y_train))\n",
    "print(\"Length of test data: \", len(X_test), len(y_test))"
   ]
  },
  {
   "cell_type": "code",
   "execution_count": 34,
   "metadata": {},
   "outputs": [
    {
     "name": "stdout",
     "output_type": "stream",
     "text": [
      "0.03 Seconds to train SVC...\n",
      "Test Accuracy of SVC =  0.8889\n"
     ]
    }
   ],
   "source": [
    "# Training the SVM model\n",
    "svc = LinearSVC()\n",
    "# Check the training time for the SVC\n",
    "t=time.time()\n",
    "svc.fit(X_train, y_train)\n",
    "t2 = time.time()\n",
    "print(round(t2-t, 2), 'Seconds to train SVC...')\n",
    "# Check the score of the SVC\n",
    "print('Test Accuracy of SVC = ', round(svc.score(X_test, y_test), 4))\n",
    "# Check the prediction time for a single sample\n",
    "t=time.time()"
   ]
  },
  {
   "cell_type": "code",
   "execution_count": 36,
   "metadata": {},
   "outputs": [
    {
     "name": "stdout",
     "output_type": "stream",
     "text": [
      "['absent']\n"
     ]
    }
   ],
   "source": [
    "# 57,1,4,140,192,0,0,148,0,0.4,2,0,6,absent\n",
    "# 67,1,4,160,286,0,2,108,1,1.5,2,3,3,present\n",
    "validation_array = np.array([57,1,4,140,192,0,0,148,0,0.4,2,0,6])\n",
    "transformed_input = X_scaler.transform(validation_array.reshape(1, -1))\n",
    "print(svc.predict(transformed_input))"
   ]
  }
 ],
 "metadata": {
  "kernelspec": {
   "display_name": "Python [conda env:carnd-term1]",
   "language": "python",
   "name": "conda-env-carnd-term1-py"
  },
  "language_info": {
   "codemirror_mode": {
    "name": "ipython",
    "version": 3
   },
   "file_extension": ".py",
   "mimetype": "text/x-python",
   "name": "python",
   "nbconvert_exporter": "python",
   "pygments_lexer": "ipython3",
   "version": "3.5.2"
  },
  "widgets": {
   "state": {},
   "version": "1.1.2"
  }
 },
 "nbformat": 4,
 "nbformat_minor": 2
}
